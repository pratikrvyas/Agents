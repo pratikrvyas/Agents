{
 "cells": [
  {
   "cell_type": "markdown",
   "metadata": {},
   "source": [
    "**Human-In-Loop Dynamic Recommendations**\n",
    "\n",
    "Imagine a scenario where users interact with a system to get product recommendations (movies ,books). This isn't a static, one-size-fits-all approach. User needs are nuanced and require dynamic adjustments. \n",
    "For instance, a user asking for \"a good movie\" might actually be looking for a horror film, a comedy, or something entirely different. or asking for a book, etc.\n",
    "\n",
    "To handle such complexity, we need a system that:\n",
    "\n",
    "- **Understands User Intent:** Interprets the user's request and identifies their preferences.\n",
    "\n",
    "- **Chooses the Right Tool:** Dynamically selects tools based on the user's preference (e.g., a movie recommender vs. a book recommender).\n",
    "\n",
    "- **Human-In-Loop:** Ask user approval before proceeding to execute tool\n",
    "\n",
    "- **Orchestrates the Flow:** Manages the interaction between different components of the system.\n",
    "\n",
    "- **Delivers a Final Recommendation:** Presents the user with a relevant product."
   ]
  },
  {
   "cell_type": "code",
   "execution_count": 1,
   "metadata": {},
   "outputs": [],
   "source": [
    "from typing import Annotated, Sequence, TypedDict, Union\n",
    "from langchain_core.messages import BaseMessage\n",
    "from langgraph.graph.message import add_messages\n",
    "from langchain_core.messages import ToolMessage\n",
    "from langchain_core.runnables import RunnableConfig\n",
    "from langchain_core.prompts import ChatPromptTemplate\n",
    "from display_graph import display_graph\n",
    "from pydantic import BaseModel, ValidationError, Field\n",
    "import os, sys, json\n",
    "import logging\n",
    "import asyncio\n",
    "from langgraph.checkpoint.memory import MemorySaver"
   ]
  },
  {
   "cell_type": "code",
   "execution_count": 2,
   "metadata": {},
   "outputs": [],
   "source": [
    "logging.basicConfig(\n",
    "    stream=sys.stdout,\n",
    "    level=logging.INFO,\n",
    "    format=\"%(asctime)s - %(levelname)s - %(message)s\",\n",
    ")\n"
   ]
  },
  {
   "cell_type": "markdown",
   "metadata": {},
   "source": [
    "**Defining the State**\n",
    "\n",
    "At the core of any LangGraph application is the concept of state. This state is essentially the memory of your application, keeping track of the current situation. In our example, we define **RecommendationState** using Python's **TypedDict**:"
   ]
  },
  {
   "cell_type": "code",
   "execution_count": 3,
   "metadata": {},
   "outputs": [],
   "source": [
    "class RecommendationState(TypedDict):\n",
    "    user_id: str  # User id\n",
    "    preference: str  # User's preference\n",
    "    recommendation: str  #  product recommendation\n",
    "    messages: Annotated[Sequence[BaseMessage], add_messages]\n"
   ]
  },
  {
   "cell_type": "markdown",
   "metadata": {},
   "source": [
    "**Modeling User Preferences with Pydantic**\n",
    "\n",
    "To handle the specific preferences of our users, we define data models using Pydantic. This provides validation and a structured way to extract and manage user preferences. Let's see it for MoviePreference and BookPreference.\n",
    "\n",
    "Pydantic is a library for data validation and settings management using Python type hints. It allows us to define clear structures for our data, enforce type checks, and get easy access to the data through Python attributes.\n",
    "\n",
    "- **class MoviePreference(BaseModel) and BookPreference(BaseModel):** This line declares a class called MoviePreference that inherits from Pydantic's BaseModel. This inheritance gives MoviePreference all the capabilities of Pydantic models, such as data validation, serialization, and deserialization.\n",
    "\n",
    "- **Attributes as Fields:** \n",
    "Inside the class, we define attributes (also known as fields):\n",
    "\n",
    "- **MoviePreference.model_rebuild():**\n",
    "It ensures that the model's schema (its structure and type information) is fully updated, which is especially important if you have inheritance or complex field definitions.\n",
    "\n"
   ]
  },
  {
   "cell_type": "markdown",
   "metadata": {},
   "source": [
    "\n",
    "**Benefits of Pydantic**\n",
    "\n",
    "- Data Validation: \n",
    "\n",
    "    Pydantic ensures that the data received conforms to the expected types and constraints. If the LLM or any other part of the system tries to use an incorrect data type or miss a required field, Pydantic will raise a ValidationError, preventing errors downstream.\n",
    "\n",
    "- Structured Data: \n",
    "\n",
    "    It provides a clear structure for user preferences, making the code easier to read, maintain, and debug. Instead of working with unstructured data, we have well-defined objects with access via properties (e.g. movie_preference.horror instead of movie_preference[\"horror\"]).\n",
    "\n",
    "- Automatic Type Conversion: \n",
    "\n",
    "    Pydantic can automatically convert data types when necessary, making it easier to work with data from different sources.\n",
    "\n",
    "- Serialization and Deserialization: \n",
    "\n",
    "    Pydantic facilitates the easy conversion of these models to and from formats like JSON which is very helpful for passing model data between different parts of the system.\n",
    "\n",
    "- Enhanced Development Experience: \n",
    "\n",
    "    Pydantic's descriptive errors make it easier to identify and fix data issues.\n",
    "\n",
    "**Integration with LangGraph:**\n",
    "\n",
    "In the context of our LangGraph application, these models will be used to parse output from the LLM. When the LLM returns preference data for the user, this data is parsed into MoviePreference or BookPreference object. By using these structured models, we make the LangGraph logic easier to manage."
   ]
  },
  {
   "cell_type": "code",
   "execution_count": 4,
   "metadata": {},
   "outputs": [],
   "source": [
    "# Define the MoviePreference model\n",
    "class MoviePreference(BaseModel):\n",
    "    horror: str = Field(..., description=\"User's preference for horror movies\")\n",
    "    comedy: str = Field(..., description=\"User's preference for comedy movies\")\n",
    "    fiction: str = Field(..., description=\"User's preference for fiction movies\")\n",
    "    action: str = Field(..., description=\"User's preference for action movies\")\n",
    "    none: str = Field(..., description=\"No preference or other\")\n",
    "\n",
    "\n",
    "# Call model_rebuild() to finalize the model\n",
    "MoviePreference.model_rebuild()\n",
    "\n",
    "\n",
    "# Define the BookPreference model\n",
    "class BookPreference(BaseModel):\n",
    "    science: str = Field(..., description=\"User's preference for science book\")\n",
    "    technology: str = Field(..., description=\"User's preference for technology book\")\n",
    "    fiction: str = Field(..., description=\"User's preference for fiction book\")\n",
    "    none: str = Field(..., description=\"No preference or other\")\n",
    "\n",
    "\n",
    "# Call model_rebuild() to finalize the model\n",
    "BookPreference.model_rebuild()\n"
   ]
  },
  {
   "cell_type": "markdown",
   "metadata": {},
   "source": [
    "It initializes an instance of the ChatOllama class.\n",
    "\n",
    "model=\"llama3.1:8b\": Specifies which Ollama model to load and use. "
   ]
  },
  {
   "cell_type": "code",
   "execution_count": 5,
   "metadata": {},
   "outputs": [],
   "source": [
    "from langchain_core.tools import tool\n",
    "from langchain_core.messages import ToolMessage, SystemMessage, HumanMessage\n",
    "from langchain_ollama.chat_models import ChatOllama\n",
    "\n",
    "# Initialize the LLM\n",
    "llm = ChatOllama(model=\"llama3.1:8b\")\n"
   ]
  },
  {
   "cell_type": "markdown",
   "metadata": {},
   "source": [
    "The ***recommend_movie*** and  ***recommend_books*** **tool function** are responsible for:\n",
    "\n",
    "- Checking if user preference is already available. If not then extract the preference using getUserPreference function.\n",
    "\n",
    "- Logging the current preference.\n",
    "\n",
    "- Fetching an appropriate recommendation from a static database.\n",
    "\n",
    "- Updating the recommendation in the state.\n",
    "\n",
    "- Returning the modified state."
   ]
  },
  {
   "cell_type": "code",
   "execution_count": 6,
   "metadata": {},
   "outputs": [],
   "source": [
    "def getUserPreference(state: RecommendationState, product: str):\n",
    "    logging.info(f\"Checking user's preference for {product}.... \")\n",
    "    user_query = state[\"messages\"][0].content\n",
    "    prompt = (\n",
    "        f\"For a give user query suggest user's {product} preference. Suggest atleast one from available option with value 'high' and rest with 'low'. \\\n",
    "             User Query : {user_query}\"\n",
    "    )\n",
    "\n",
    "    preference_prompt = ChatPromptTemplate.from_template(prompt)\n",
    "\n",
    "    user_preference = preference_prompt | llm.with_structured_output(\n",
    "        MoviePreference if product == \"movie\" else BookPreference\n",
    "    )\n",
    "    try:\n",
    "        output = user_preference.invoke(state)\n",
    "        high_preference = [\n",
    "            key for key, value in output.model_dump().items() if value == \"high\"\n",
    "        ]\n",
    "        user_movie_preference = high_preference[0] if high_preference else \"none\"\n",
    "    except ValidationError as exc:\n",
    "        user_movie_preference = \"none\"\n",
    "        logging.error(\"Error in user preference : `%s`\", exc.errors())\n",
    "\n",
    "    return {\"preference\": user_movie_preference}\n",
    "\n",
    "\n",
    "@tool\n",
    "def recommend_movie(state: RecommendationState):\n",
    "    \"\"\"Recommend a movie based on the user's preferences.\"\"\"\n",
    "\n",
    "    if state[\"preference\"] == \"\":\n",
    "        user_preference = getUserPreference(state, \"movie\")\n",
    "        state.update(user_preference)\n",
    "\n",
    "    logging.info(\n",
    "        \"Step 3.1: executing recommend_movie for preference : `%s`\", state[\"preference\"]\n",
    "    )\n",
    "    product_db = {\n",
    "        \"horror\": f\"Recommandation for {state['preference']} movie is 'Dracula'\",\n",
    "        \"comedy\": f\"Recommandation for {state['preference']} movie is 'Home Alone'\",\n",
    "        \"fiction\": f\"Recommandation for {state['preference']} movie is 'Matrix'\",\n",
    "        \"science\": f\"Recommandation for {state['preference']} movie is 'Interstellar'\",\n",
    "        \"action\": f\"Recommandation for {state['preference']} movie is 'Terminator'\",\n",
    "    }\n",
    "\n",
    "    state[\"recommendation\"] = product_db.get(state[\"preference\"], \"No recommendation\")\n",
    "\n",
    "    return state\n",
    "\n",
    "\n",
    "# Tool function: Recommend a product based on the user's preference\n",
    "@tool\n",
    "def recommend_book(state: RecommendationState):\n",
    "    \"\"\"Recommend a book based on the user's preferences.\"\"\"\n",
    "\n",
    "    if state[\"preference\"] == \"\":\n",
    "        user_preference = getUserPreference(state, \"book\")\n",
    "        state.update(user_preference)\n",
    "\n",
    "    logging.info(\n",
    "        \"Step 3.1 : executing recommend_book for preference: `%s`\", state[\"preference\"]\n",
    "    )\n",
    "    product_db = {\n",
    "        \"science\": f\"Recommandation for {state['preference']} book is 'A Brief History of Time' by Stephen Hawking.\",\n",
    "        \"technology\": f\"Recommandation for {state['preference']} book is 'The Innovators' by Walter Isaacson.\",\n",
    "        \"fiction\": f\"Recommandation for {state['preference']} book is 'The Alchemist' by Paulo Coelho.\",\n",
    "    }\n",
    "\n",
    "    state[\"recommendation\"] = product_db.get(state[\"preference\"], \"No recommendation\")\n",
    "\n",
    "    return state\n"
   ]
  },
  {
   "cell_type": "code",
   "execution_count": 7,
   "metadata": {},
   "outputs": [],
   "source": [
    "\"\"\"\n",
    "- Combines multiple tool function in a python list.\n",
    "- Registers those tools with LLM for making it accessible to LLM using bind_tools.\n",
    "- Creates a lookup dictionary for those tools based on their name.\n",
    "\"\"\"\n",
    "tools = [recommend_book, recommend_movie]\n",
    "llm = llm.bind_tools(tools=tools)\n",
    "tools_by_name = {tool.name: tool for tool in tools}\n"
   ]
  },
  {
   "cell_type": "markdown",
   "metadata": {},
   "source": [
    "\n",
    "\n",
    "\n",
    "This module provides functions for handling product recommendations using a language model (LLM) and tools.\n",
    "\n",
    "\n",
    "**Functions:**\n",
    "\n",
    "- **tool_node(state: RecommendationState) -> RecommendationState:**\n",
    "    Handles the invocation of tools for product recommendations based on the state.\n",
    "\n",
    "\n",
    "- **call_model(state: RecommendationState, config: RunnableConfig) -> RecommendationState:**\n",
    "    Processes user input and generates product recommendations using the LLM.\n",
    "\n",
    "\n",
    "- **should_continue(state: RecommendationState) -> str:**\n",
    "    Determines whether to continue with tool calling or end the process based on the state.\n"
   ]
  },
  {
   "cell_type": "code",
   "execution_count": 8,
   "metadata": {},
   "outputs": [],
   "source": [
    "def tool_node(state: RecommendationState):\n",
    "    logging.info(\"Step 3: Looping through available tools.... \")\n",
    "\n",
    "    outputs = []\n",
    "    for tool_call in state[\"messages\"][-1].tool_calls:\n",
    "        tool_call[\"args\"][\"state\"] = state\n",
    "        tool_result = tools_by_name[tool_call[\"name\"]].invoke(tool_call[\"args\"])\n",
    "        state.update(tool_result)\n",
    "        outputs.append(\n",
    "            ToolMessage(\n",
    "                content=json.dumps(tool_result[\"recommendation\"]),\n",
    "                name=tool_call[\"name\"],\n",
    "                tool_call_id=tool_call[\"id\"],\n",
    "            )\n",
    "        )\n",
    "    logging.info(\"tool recommendation  : `%s`\", state[\"recommendation\"])\n",
    "    state[\"messages\"] = outputs\n",
    "    return state\n",
    "\n",
    "\n",
    "# LLM reasoning node to process user input and generate product recommendations\n",
    "def call_model(state: RecommendationState, config: RunnableConfig):\n",
    "    logging.info(\"Step 1: calling model for below prompt.... \")\n",
    "\n",
    "    if state[\"recommendation\"] != \"\":\n",
    "        logging.info(\n",
    "            \"No need to call model as recommendation is already provided : `%s`. \",\n",
    "            state[\"recommendation\"],\n",
    "        )\n",
    "        return state\n",
    "\n",
    "    system_prompt = SystemMessage(\n",
    "        content=f\"You are a helpful assistant for recommending a product based on the user's preference.\"\n",
    "    )\n",
    "\n",
    "    # Convert messages to a serializable format\n",
    "    formatted_messages = (\n",
    "        [{\"role\": \"system\", \"content\": system_prompt.content}]\n",
    "        + [\n",
    "            {\"role\": \"user\", \"content\": msg.content}\n",
    "            if isinstance(msg, HumanMessage)\n",
    "            else {\"role\": \"assistant\", \"content\": msg.content}\n",
    "            for msg in state[\"messages\"]\n",
    "        ]\n",
    "        # + [{\"role\": \"user\", \"content\": state[\"preference\"]}]\n",
    "    )\n",
    "\n",
    "    logging.info(formatted_messages)\n",
    "\n",
    "    response = llm.invoke(formatted_messages, config)\n",
    "    state[\"messages\"] = [response]\n",
    "\n",
    "    logging.info(\"Model suggest to call  : `%s` tool\", response.tool_calls[0][\"name\"])\n",
    "    return state\n",
    "\n",
    "\n",
    "# Conditional function to determine whether to call the tool or end\n",
    "def should_continue(state: RecommendationState):\n",
    "    logging.info(\"Step 2: Checking condition to continue with tool calling or end.... \")\n",
    "\n",
    "    if state[\"recommendation\"] != \"\":\n",
    "        logging.info(\"Proceed to END since recommendation is already provided.... \")\n",
    "        return \"end\"\n",
    "    else:\n",
    "        logging.info(\n",
    "            \"continue with tool calling since no recommendation is provided yet.... \"\n",
    "        )\n",
    "        return \"continue\"\n"
   ]
  },
  {
   "cell_type": "markdown",
   "metadata": {},
   "source": [
    "**Build Graph**\n",
    "\n",
    "- Graph Structure: This code defines the entire structure of our LangGraph workflow. It connects all the different nodes and specifies how the execution will flow.\n",
    "\n",
    "- State Management: The graph uses StateGraph to allow the state object RecommendationState to be passed to different nodes for manipulation and decision making.\n",
    "\n",
    "- Dynamic Execution: Conditional edges and tool function helps in building dynamic execution flow based on the user interaction.\n",
    "\n",
    "- Modularity: Each node represents a discrete unit of functionality, making the workflow easier to understand and modify."
   ]
  },
  {
   "cell_type": "code",
   "execution_count": 9,
   "metadata": {},
   "outputs": [],
   "source": [
    "from langgraph.graph import StateGraph, END, START\n",
    "\n",
    "workflow = StateGraph(RecommendationState)\n",
    "workflow.add_node(\"agent\", call_model)\n",
    "workflow.add_node(\"tools\", tool_node)\n",
    "\n",
    "workflow.set_entry_point(\"agent\")\n",
    "workflow.add_conditional_edges(\n",
    "    \"agent\",\n",
    "    should_continue,\n",
    "    {\n",
    "        \"continue\": \"tools\",\n",
    "        \"end\": END,\n",
    "    },\n",
    ")\n",
    "workflow.add_edge(\"tools\", \"agent\")\n",
    "\n",
    "# Compile the graph, ask for user approval before proceeding tool node\n",
    "graph = workflow.compile(interrupt_before=[\"tools\"], checkpointer=MemorySaver())\n"
   ]
  },
  {
   "cell_type": "code",
   "execution_count": 10,
   "metadata": {},
   "outputs": [
    {
     "data": {
      "image/png": "[encoded data removed]",
      "text/plain": [
       "<IPython.core.display.Image object>"
      ]
     },
     "metadata": {},
     "output_type": "display_data"
    }
   ],
   "source": [
    "from IPython.display import Image, display\n",
    "from langchain_core.runnables.graph import CurveStyle, MermaidDrawMethod, NodeStyles\n",
    "\n",
    "display(\n",
    "    Image(\n",
    "        graph.get_graph().draw_mermaid_png(\n",
    "            draw_method=MermaidDrawMethod.API,\n",
    "        )\n",
    "    )\n",
    ")\n"
   ]
  },
  {
   "cell_type": "markdown",
   "metadata": {},
   "source": [
    "**Execution:**\n",
    "\n",
    "To start execution, initialize the graph with initial state by providing the user input message. The graph execution is started by calling invoke method with initial state.\n",
    "\n",
    "\n",
    "Either pass 'preference' in input otherwise agent will automatically extract preference based on user query"
   ]
  },
  {
   "attachments": {
    "image.png": {
     "image/png": "[encoded data removed]"
    }
   },
   "cell_type": "markdown",
   "metadata": {},
   "source": [
    "**Human in loop**\n",
    "\n",
    "Enter yes/no at the top. \n",
    "![image.png](attachment:image.png)"
   ]
  },
  {
   "cell_type": "markdown",
   "metadata": {},
   "source": [
    "Example with human feedback 'no'"
   ]
  },
  {
   "cell_type": "code",
   "execution_count": 11,
   "metadata": {},
   "outputs": [
    {
     "name": "stdout",
     "output_type": "stream",
     "text": [
      "2025-02-02 19:43:15,440 - INFO - Step 1: calling model for below prompt.... \n",
      "2025-02-02 19:43:15,441 - INFO - [{'role': 'system', 'content': \"You are a helpful assistant for recommending a product based on the user's preference.\"}, {'role': 'user', 'content': \"I'm looking for a movie which make me laugh\"}]\n",
      "2025-02-02 19:43:48,400 - INFO - HTTP Request: POST http://127.0.0.1:11434/api/chat \"HTTP/1.1 200 OK\"\n",
      "2025-02-02 19:43:48,638 - INFO - Model suggest to call  : `recommend_movie` tool\n",
      "2025-02-02 19:43:48,639 - INFO - Step 2: Checking condition to continue with tool calling or end.... \n",
      "2025-02-02 19:43:48,639 - INFO - continue with tool calling since no recommendation is provided yet.... \n",
      "2025-02-02 19:43:52,498 - INFO - (Human-In-Loop) Proceed to tool? (yes/no): no\n",
      "=====Final Output======\n",
      "Workflow halted by human feedback\n",
      "=====END Output======\n"
     ]
    }
   ],
   "source": [
    "# Initialize the agent's state with the user's query and (optional) preference\n",
    "initial_state = {\n",
    "    \"messages\": [(\"user\", \"I'm looking for a movie which make me laugh\")],\n",
    "    \"user_id\": \"user1\",\n",
    "    \"recommendation\": \"\",\n",
    "    \"preference\": \"\",\n",
    "}\n",
    "\n",
    "# thred-id is mandatory for human in loop\n",
    "config = {\"configurable\": {\"thread_id\": \"thread-1\"}}\n",
    "# Run the agent\n",
    "result = graph.invoke(initial_state, config)\n",
    "\n",
    "\n",
    "# ask for user approval before proceeding tool node\n",
    "approval = input(\"Proceed to tool? (yes/no): \")\n",
    "if approval.lower() == \"yes\":\n",
    "    logging.info(\"(Human-In-Loop) Proceed to tool? (yes/no): yes\")\n",
    "    result = graph.invoke(None, config)\n",
    "    # Display the final result\n",
    "    print(\"=====Final Output======\")\n",
    "    print(f\"Product Recommendation: {result['recommendation']}\")\n",
    "    print(\"=====END Output======\")\n",
    "else:\n",
    "    logging.info(\"(Human-In-Loop) Proceed to tool? (yes/no): no\")\n",
    "    # Display the final result\n",
    "    print(\"=====Final Output======\")\n",
    "    print(\"Workflow halted by human feedback\")\n",
    "    print(\"=====END Output======\")\n"
   ]
  },
  {
   "cell_type": "markdown",
   "metadata": {},
   "source": [
    "Example with human feedback 'yes'"
   ]
  },
  {
   "cell_type": "code",
   "execution_count": 11,
   "metadata": {},
   "outputs": [
    {
     "name": "stdout",
     "output_type": "stream",
     "text": [
      "2025-02-02 19:47:57,293 - INFO - Step 1: calling model for below prompt.... \n",
      "2025-02-02 19:47:57,294 - INFO - [{'role': 'system', 'content': \"You are a helpful assistant for recommending a product based on the user's preference.\"}, {'role': 'user', 'content': \"I'm looking for a movie which make me laugh\"}]\n",
      "2025-02-02 19:48:24,459 - INFO - HTTP Request: POST http://127.0.0.1:11434/api/chat \"HTTP/1.1 200 OK\"\n",
      "2025-02-02 19:48:24,685 - INFO - Model suggest to call  : `recommend_movie` tool\n",
      "2025-02-02 19:48:24,687 - INFO - Step 2: Checking condition to continue with tool calling or end.... \n",
      "2025-02-02 19:48:24,687 - INFO - continue with tool calling since no recommendation is provided yet.... \n",
      "2025-02-02 19:48:28,203 - INFO - (Human-In-Loop) Proceed to tool? (yes/no): yes\n",
      "2025-02-02 19:48:28,204 - INFO - Step 3: Looping through available tools.... \n",
      "2025-02-02 19:48:28,205 - INFO - Checking user's preference for movie.... \n",
      "2025-02-02 19:49:13,692 - INFO - HTTP Request: POST http://127.0.0.1:11434/api/chat \"HTTP/1.1 200 OK\"\n",
      "2025-02-02 19:49:13,934 - INFO - Step 3.1: executing recommend_movie for preference : `comedy`\n",
      "2025-02-02 19:49:13,938 - INFO - tool recommendation  : `Recommandation for comedy movie is 'Home Alone'`\n",
      "2025-02-02 19:49:13,942 - INFO - Step 1: calling model for below prompt.... \n",
      "2025-02-02 19:49:13,945 - INFO - No need to call model as recommendation is already provided : `Recommandation for comedy movie is 'Home Alone'`. \n",
      "2025-02-02 19:49:13,946 - INFO - Step 2: Checking condition to continue with tool calling or end.... \n",
      "2025-02-02 19:49:13,948 - INFO - Proceed to END since recommendation is already provided.... \n",
      "=====Final Output======\n",
      "Product Recommendation: Recommandation for comedy movie is 'Home Alone'\n",
      "=====END Output======\n"
     ]
    }
   ],
   "source": [
    "# Initialize the agent's state with the user's query and (optional) preference\n",
    "initial_state = {\n",
    "    \"messages\": [(\"user\", \"I'm looking for a movie which make me laugh\")],\n",
    "    \"user_id\": \"user1\",\n",
    "    \"recommendation\": \"\",\n",
    "    \"preference\": \"\",\n",
    "}\n",
    "\n",
    "# thred-id is mandatory for human in loop\n",
    "config = {\"configurable\": {\"thread_id\": \"thread-1\"}}\n",
    "# Run the agent\n",
    "result = graph.invoke(initial_state, config)\n",
    "\n",
    "\n",
    "# ask for user approval before proceeding tool node\n",
    "approval = input(\"Proceed to tool? (yes/no): \")\n",
    "if approval.lower() == \"yes\":\n",
    "    logging.info(\"(Human-In-Loop) Proceed to tool? (yes/no): yes\")\n",
    "\n",
    "    result = graph.invoke(None, config)\n",
    "\n",
    "    # Display the final result\n",
    "    print(\"=====Final Output======\")\n",
    "    print(f\"Product Recommendation: {result['recommendation']}\")\n",
    "    print(\"=====END Output======\")\n",
    "else:\n",
    "    logging.info(\"(Human-In-Loop) Proceed to tool? (yes/no): no\")\n",
    "    # Display the final result\n",
    "    print(\"=====Final Output======\")\n",
    "    print(\"Workflow halted by human feedback\")\n",
    "    print(\"=====END Output======\")\n"
   ]
  },
  {
   "cell_type": "markdown",
   "metadata": {},
   "source": [
    "**Thanks !!**"
   ]
  }
 ],
 "metadata": {
  "kernelspec": {
   "display_name": ".venv",
   "language": "python",
   "name": "python3"
  },
  "language_info": {
   "codemirror_mode": {
    "name": "ipython",
    "version": 3
   },
   "file_extension": ".py",
   "mimetype": "text/x-python",
   "name": "python",
   "nbconvert_exporter": "python",
   "pygments_lexer": "ipython3",
   "version": "3.12.3"
  }
 },
 "nbformat": 4,
 "nbformat_minor": 2
}
